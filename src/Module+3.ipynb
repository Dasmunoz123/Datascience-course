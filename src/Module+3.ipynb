{
 "cells": [
  {
   "cell_type": "markdown",
   "metadata": {},
   "source": [
    "---\n",
    "\n",
    "_You are currently looking at **version 1.0** of this notebook. To download notebooks and datafiles, as well as get help on Jupyter notebooks in the Coursera platform, visit the [Jupyter Notebook FAQ](https://www.coursera.org/learn/python-machine-learning/resources/bANLa) course resource._\n",
    "\n",
    "---"
   ]
  },
  {
   "cell_type": "markdown",
   "metadata": {
    "collapsed": true
   },
   "source": [
    "# Applied Machine Learning: Module 3 (Evaluation)"
   ]
  },
  {
   "cell_type": "markdown",
   "metadata": {},
   "source": [
    "## Evaluation for Classification"
   ]
  },
  {
   "cell_type": "markdown",
   "metadata": {},
   "source": [
    "### Preamble"
   ]
  },
  {
   "cell_type": "code",
   "execution_count": 2,
   "metadata": {
    "collapsed": false
   },
   "outputs": [
    {
     "name": "stdout",
     "output_type": "stream",
     "text": [
      "0 178\n",
      "1 182\n",
      "2 177\n",
      "3 183\n",
      "4 181\n",
      "5 182\n",
      "6 181\n",
      "7 179\n",
      "8 174\n",
      "9 180\n"
     ]
    }
   ],
   "source": [
    "%matplotlib notebook\n",
    "import numpy as np\n",
    "import pandas as pd\n",
    "import seaborn as sns\n",
    "import matplotlib.pyplot as plt\n",
    "from sklearn.model_selection import train_test_split\n",
    "from sklearn.datasets import load_digits\n",
    "\n",
    "dataset = load_digits()\n",
    "X, y = dataset.data, dataset.target\n",
    "\n",
    "for class_name, class_count in zip(dataset.target_names, np.bincount(dataset.target)):\n",
    "    print(class_name,class_count)"
   ]
  },
  {
   "cell_type": "code",
   "execution_count": 3,
   "metadata": {
    "collapsed": false
   },
   "outputs": [
    {
     "name": "stdout",
     "output_type": "stream",
     "text": [
      "Original labels:\t [1 2 3 4 5 6 7 8 9 0 1 2 3 4 5 6 7 8 9 0 1 2 3 4 5 6 7 8 9]\n",
      "New binary labels:\t [1 0 0 0 0 0 0 0 0 0 1 0 0 0 0 0 0 0 0 0 1 0 0 0 0 0 0 0 0]\n"
     ]
    }
   ],
   "source": [
    "# Creating a dataset with imbalanced binary classes:  \n",
    "# Negative class (0) is 'not digit 1' \n",
    "# Positive class (1) is 'digit 1'\n",
    "y_binary_imbalanced = y.copy()\n",
    "y_binary_imbalanced[y_binary_imbalanced != 1] = 0\n",
    "\n",
    "print('Original labels:\\t', y[1:30])\n",
    "print('New binary labels:\\t', y_binary_imbalanced[1:30])"
   ]
  },
  {
   "cell_type": "code",
   "execution_count": 4,
   "metadata": {
    "collapsed": false,
    "scrolled": true
   },
   "outputs": [
    {
     "data": {
      "text/plain": [
       "array([1615,  182])"
      ]
     },
     "execution_count": 4,
     "metadata": {},
     "output_type": "execute_result"
    }
   ],
   "source": [
    "np.bincount(y_binary_imbalanced)    # Negative class (0) is the most frequent class"
   ]
  },
  {
   "cell_type": "code",
   "execution_count": 5,
   "metadata": {
    "collapsed": false
   },
   "outputs": [
    {
     "data": {
      "text/plain": [
       "0.90888888888888886"
      ]
     },
     "execution_count": 5,
     "metadata": {},
     "output_type": "execute_result"
    }
   ],
   "source": [
    "X_train, X_test, y_train, y_test = train_test_split(X, y_binary_imbalanced, random_state=0)\n",
    "\n",
    "# Accuracy of Support Vector Machine classifier\n",
    "from sklearn.svm import SVC\n",
    "\n",
    "svm = SVC(kernel='rbf', C=1).fit(X_train, y_train)\n",
    "svm.score(X_test, y_test)"
   ]
  },
  {
   "cell_type": "markdown",
   "metadata": {},
   "source": [
    "### Dummy Classifiers"
   ]
  },
  {
   "cell_type": "markdown",
   "metadata": {
    "collapsed": true
   },
   "source": [
    "DummyClassifier is a classifier that makes predictions using simple rules, which can be useful as a baseline for comparison against actual classifiers, especially with imbalanced classes."
   ]
  },
  {
   "cell_type": "code",
   "execution_count": 6,
   "metadata": {
    "collapsed": false
   },
   "outputs": [
    {
     "data": {
      "text/plain": [
       "array([0, 0, 0, 0, 0, 0, 0, 0, 0, 0, 0, 0, 0, 0, 0, 0, 0, 0, 0, 0, 0, 0, 0,\n",
       "       0, 0, 0, 0, 0, 0, 0, 0, 0, 0, 0, 0, 0, 0, 0, 0, 0, 0, 0, 0, 0, 0, 0,\n",
       "       0, 0, 0, 0, 0, 0, 0, 0, 0, 0, 0, 0, 0, 0, 0, 0, 0, 0, 0, 0, 0, 0, 0,\n",
       "       0, 0, 0, 0, 0, 0, 0, 0, 0, 0, 0, 0, 0, 0, 0, 0, 0, 0, 0, 0, 0, 0, 0,\n",
       "       0, 0, 0, 0, 0, 0, 0, 0, 0, 0, 0, 0, 0, 0, 0, 0, 0, 0, 0, 0, 0, 0, 0,\n",
       "       0, 0, 0, 0, 0, 0, 0, 0, 0, 0, 0, 0, 0, 0, 0, 0, 0, 0, 0, 0, 0, 0, 0,\n",
       "       0, 0, 0, 0, 0, 0, 0, 0, 0, 0, 0, 0, 0, 0, 0, 0, 0, 0, 0, 0, 0, 0, 0,\n",
       "       0, 0, 0, 0, 0, 0, 0, 0, 0, 0, 0, 0, 0, 0, 0, 0, 0, 0, 0, 0, 0, 0, 0,\n",
       "       0, 0, 0, 0, 0, 0, 0, 0, 0, 0, 0, 0, 0, 0, 0, 0, 0, 0, 0, 0, 0, 0, 0,\n",
       "       0, 0, 0, 0, 0, 0, 0, 0, 0, 0, 0, 0, 0, 0, 0, 0, 0, 0, 0, 0, 0, 0, 0,\n",
       "       0, 0, 0, 0, 0, 0, 0, 0, 0, 0, 0, 0, 0, 0, 0, 0, 0, 0, 0, 0, 0, 0, 0,\n",
       "       0, 0, 0, 0, 0, 0, 0, 0, 0, 0, 0, 0, 0, 0, 0, 0, 0, 0, 0, 0, 0, 0, 0,\n",
       "       0, 0, 0, 0, 0, 0, 0, 0, 0, 0, 0, 0, 0, 0, 0, 0, 0, 0, 0, 0, 0, 0, 0,\n",
       "       0, 0, 0, 0, 0, 0, 0, 0, 0, 0, 0, 0, 0, 0, 0, 0, 0, 0, 0, 0, 0, 0, 0,\n",
       "       0, 0, 0, 0, 0, 0, 0, 0, 0, 0, 0, 0, 0, 0, 0, 0, 0, 0, 0, 0, 0, 0, 0,\n",
       "       0, 0, 0, 0, 0, 0, 0, 0, 0, 0, 0, 0, 0, 0, 0, 0, 0, 0, 0, 0, 0, 0, 0,\n",
       "       0, 0, 0, 0, 0, 0, 0, 0, 0, 0, 0, 0, 0, 0, 0, 0, 0, 0, 0, 0, 0, 0, 0,\n",
       "       0, 0, 0, 0, 0, 0, 0, 0, 0, 0, 0, 0, 0, 0, 0, 0, 0, 0, 0, 0, 0, 0, 0,\n",
       "       0, 0, 0, 0, 0, 0, 0, 0, 0, 0, 0, 0, 0, 0, 0, 0, 0, 0, 0, 0, 0, 0, 0,\n",
       "       0, 0, 0, 0, 0, 0, 0, 0, 0, 0, 0, 0, 0])"
      ]
     },
     "execution_count": 6,
     "metadata": {},
     "output_type": "execute_result"
    }
   ],
   "source": [
    "from sklearn.dummy import DummyClassifier\n",
    "\n",
    "# Negative class (0) is most frequent\n",
    "dummy_majority = DummyClassifier(strategy = 'most_frequent').fit(X_train, y_train)\n",
    "# Therefore the dummy 'most_frequent' classifier always predicts class 0\n",
    "y_dummy_predictions = dummy_majority.predict(X_test)\n",
    "\n",
    "y_dummy_predictions"
   ]
  },
  {
   "cell_type": "code",
   "execution_count": 7,
   "metadata": {
    "collapsed": false
   },
   "outputs": [
    {
     "data": {
      "text/plain": [
       "0.9044444444444445"
      ]
     },
     "execution_count": 7,
     "metadata": {},
     "output_type": "execute_result"
    }
   ],
   "source": [
    "dummy_majority.score(X_test, y_test)"
   ]
  },
  {
   "cell_type": "code",
   "execution_count": 8,
   "metadata": {
    "collapsed": false
   },
   "outputs": [
    {
     "data": {
      "text/plain": [
       "0.97777777777777775"
      ]
     },
     "execution_count": 8,
     "metadata": {},
     "output_type": "execute_result"
    }
   ],
   "source": [
    "svm = SVC(kernel='linear', C=1).fit(X_train, y_train)\n",
    "svm.score(X_test, y_test)"
   ]
  },
  {
   "cell_type": "markdown",
   "metadata": {},
   "source": [
    "### Confusion matrices"
   ]
  },
  {
   "cell_type": "markdown",
   "metadata": {},
   "source": [
    "#### Binary (two-class) confusion matrix"
   ]
  },
  {
   "cell_type": "code",
   "execution_count": 9,
   "metadata": {
    "collapsed": false
   },
   "outputs": [
    {
     "name": "stdout",
     "output_type": "stream",
     "text": [
      "Most frequent class (dummy classifier)\n",
      " [[407   0]\n",
      " [ 43   0]]\n"
     ]
    }
   ],
   "source": [
    "from sklearn.metrics import confusion_matrix\n",
    "\n",
    "# Negative class (0) is most frequent\n",
    "dummy_majority = DummyClassifier(strategy = 'most_frequent').fit(X_train, y_train)\n",
    "y_majority_predicted = dummy_majority.predict(X_test)\n",
    "confusion = confusion_matrix(y_test, y_majority_predicted)\n",
    "\n",
    "print('Most frequent class (dummy classifier)\\n', confusion)"
   ]
  },
  {
   "cell_type": "code",
   "execution_count": 10,
   "metadata": {
    "collapsed": false
   },
   "outputs": [
    {
     "name": "stdout",
     "output_type": "stream",
     "text": [
      "Random class-proportional prediction (dummy classifier)\n",
      " [[361  46]\n",
      " [ 40   3]]\n"
     ]
    }
   ],
   "source": [
    "# produces random predictions w/ same class proportion as training set\n",
    "dummy_classprop = DummyClassifier(strategy='stratified').fit(X_train, y_train)\n",
    "y_classprop_predicted = dummy_classprop.predict(X_test)\n",
    "confusion = confusion_matrix(y_test, y_classprop_predicted)\n",
    "\n",
    "print('Random class-proportional prediction (dummy classifier)\\n', confusion)"
   ]
  },
  {
   "cell_type": "code",
   "execution_count": 11,
   "metadata": {
    "collapsed": false,
    "scrolled": true
   },
   "outputs": [
    {
     "name": "stdout",
     "output_type": "stream",
     "text": [
      "Support vector machine classifier (linear kernel, C=1)\n",
      " [[402   5]\n",
      " [  5  38]]\n"
     ]
    }
   ],
   "source": [
    "svm = SVC(kernel='linear', C=1).fit(X_train, y_train)\n",
    "svm_predicted = svm.predict(X_test)\n",
    "confusion = confusion_matrix(y_test, svm_predicted)\n",
    "\n",
    "print('Support vector machine classifier (linear kernel, C=1)\\n', confusion)"
   ]
  },
  {
   "cell_type": "code",
   "execution_count": 12,
   "metadata": {
    "collapsed": false
   },
   "outputs": [
    {
     "name": "stdout",
     "output_type": "stream",
     "text": [
      "Logistic regression classifier (default settings)\n",
      " [[401   6]\n",
      " [  6  37]]\n"
     ]
    }
   ],
   "source": [
    "from sklearn.linear_model import LogisticRegression\n",
    "\n",
    "lr = LogisticRegression().fit(X_train, y_train)\n",
    "lr_predicted = lr.predict(X_test)\n",
    "confusion = confusion_matrix(y_test, lr_predicted)\n",
    "\n",
    "print('Logistic regression classifier (default settings)\\n', confusion)"
   ]
  },
  {
   "cell_type": "code",
   "execution_count": 13,
   "metadata": {
    "collapsed": false
   },
   "outputs": [
    {
     "name": "stdout",
     "output_type": "stream",
     "text": [
      "Decision tree classifier (max_depth = 2)\n",
      " [[400   7]\n",
      " [ 17  26]]\n"
     ]
    }
   ],
   "source": [
    "from sklearn.tree import DecisionTreeClassifier\n",
    "\n",
    "dt = DecisionTreeClassifier(max_depth=2).fit(X_train, y_train)\n",
    "tree_predicted = dt.predict(X_test)\n",
    "confusion = confusion_matrix(y_test, tree_predicted)\n",
    "\n",
    "print('Decision tree classifier (max_depth = 2)\\n', confusion)"
   ]
  },
  {
   "cell_type": "markdown",
   "metadata": {},
   "source": [
    "### Evaluation metrics for binary classification"
   ]
  },
  {
   "cell_type": "code",
   "execution_count": 14,
   "metadata": {
    "collapsed": false
   },
   "outputs": [
    {
     "name": "stdout",
     "output_type": "stream",
     "text": [
      "Accuracy: 0.95\n",
      "Precision: 0.79\n",
      "Recall: 0.60\n",
      "F1: 0.68\n"
     ]
    }
   ],
   "source": [
    "from sklearn.metrics import accuracy_score, precision_score, recall_score, f1_score\n",
    "# Accuracy = TP + TN / (TP + TN + FP + FN)\n",
    "# Precision = TP / (TP + FP)\n",
    "# Recall = TP / (TP + FN)  Also known as sensitivity, or True Positive Rate\n",
    "# F1 = 2 * Precision * Recall / (Precision + Recall) \n",
    "print('Accuracy: {:.2f}'.format(accuracy_score(y_test, tree_predicted)))\n",
    "print('Precision: {:.2f}'.format(precision_score(y_test, tree_predicted)))\n",
    "print('Recall: {:.2f}'.format(recall_score(y_test, tree_predicted)))\n",
    "print('F1: {:.2f}'.format(f1_score(y_test, tree_predicted)))"
   ]
  },
  {
   "cell_type": "code",
   "execution_count": 15,
   "metadata": {
    "collapsed": false
   },
   "outputs": [
    {
     "name": "stdout",
     "output_type": "stream",
     "text": [
      "             precision    recall  f1-score   support\n",
      "\n",
      "      not 1       0.96      0.98      0.97       407\n",
      "          1       0.79      0.60      0.68        43\n",
      "\n",
      "avg / total       0.94      0.95      0.94       450\n",
      "\n"
     ]
    }
   ],
   "source": [
    "# Combined report with all above metrics\n",
    "from sklearn.metrics import classification_report\n",
    "\n",
    "print(classification_report(y_test, tree_predicted, target_names=['not 1', '1']))"
   ]
  },
  {
   "cell_type": "code",
   "execution_count": 16,
   "metadata": {
    "collapsed": false,
    "scrolled": false
   },
   "outputs": [
    {
     "name": "stdout",
     "output_type": "stream",
     "text": [
      "Random class-proportional (dummy)\n",
      "              precision    recall  f1-score   support\n",
      "\n",
      "      not 1       0.90      0.89      0.89       407\n",
      "          1       0.06      0.07      0.07        43\n",
      "\n",
      "avg / total       0.82      0.81      0.81       450\n",
      "\n",
      "SVM\n",
      "              precision    recall  f1-score   support\n",
      "\n",
      "      not 1       0.99      0.99      0.99       407\n",
      "          1       0.88      0.88      0.88        43\n",
      "\n",
      "avg / total       0.98      0.98      0.98       450\n",
      "\n",
      "Logistic regression\n",
      "              precision    recall  f1-score   support\n",
      "\n",
      "      not 1       0.99      0.99      0.99       407\n",
      "          1       0.86      0.86      0.86        43\n",
      "\n",
      "avg / total       0.97      0.97      0.97       450\n",
      "\n",
      "Decision tree\n",
      "              precision    recall  f1-score   support\n",
      "\n",
      "      not 1       0.96      0.98      0.97       407\n",
      "          1       0.79      0.60      0.68        43\n",
      "\n",
      "avg / total       0.94      0.95      0.94       450\n",
      "\n"
     ]
    }
   ],
   "source": [
    "print('Random class-proportional (dummy)\\n', \n",
    "      classification_report(y_test, y_classprop_predicted, target_names=['not 1', '1']))\n",
    "print('SVM\\n', \n",
    "      classification_report(y_test, svm_predicted, target_names = ['not 1', '1']))\n",
    "print('Logistic regression\\n', \n",
    "      classification_report(y_test, lr_predicted, target_names = ['not 1', '1']))\n",
    "print('Decision tree\\n', \n",
    "      classification_report(y_test, tree_predicted, target_names = ['not 1', '1']))"
   ]
  },
  {
   "cell_type": "markdown",
   "metadata": {},
   "source": [
    "### Decision functions"
   ]
  },
  {
   "cell_type": "code",
   "execution_count": 19,
   "metadata": {
    "collapsed": false
   },
   "outputs": [
    {
     "data": {
      "text/plain": [
       "[(0, -23.172292973469546),\n",
       " (0, -13.542576515500063),\n",
       " (0, -21.717588760007867),\n",
       " (0, -18.903065133316439),\n",
       " (0, -19.733169947138638),\n",
       " (0, -9.7463217496747667),\n",
       " (1, 5.2327155658831135),\n",
       " (0, -19.308012306288916),\n",
       " (0, -25.099330209728528),\n",
       " (0, -21.824312362996),\n",
       " (0, -24.14378275072049),\n",
       " (0, -19.578811099762508),\n",
       " (0, -22.568371393280199),\n",
       " (0, -10.822590225240777),\n",
       " (0, -11.907918741521932),\n",
       " (0, -10.977026853802803),\n",
       " (1, 11.206811164226373),\n",
       " (0, -27.64415761980748),\n",
       " (0, -12.857692102545409),\n",
       " (0, -25.848149140240199)]"
      ]
     },
     "execution_count": 19,
     "metadata": {},
     "output_type": "execute_result"
    }
   ],
   "source": [
    "X_train, X_test, y_train, y_test = train_test_split(X, y_binary_imbalanced, random_state=0)\n",
    "y_scores_lr = lr.fit(X_train, y_train).decision_function(X_test)\n",
    "y_score_list = list(zip(y_test[0:20], y_scores_lr[0:20]))\n",
    "\n",
    "# show the decision_function scores for first 20 instances\n",
    "y_score_list"
   ]
  },
  {
   "cell_type": "code",
   "execution_count": 20,
   "metadata": {
    "collapsed": false
   },
   "outputs": [
    {
     "data": {
      "text/plain": [
       "[(0, 8.6377579220606777e-11),\n",
       " (0, 1.3138118599563783e-06),\n",
       " (0, 3.6997386039099529e-10),\n",
       " (0, 6.1730972504865465e-09),\n",
       " (0, 2.6914925394345074e-09),\n",
       " (0, 5.8506057771143608e-05),\n",
       " (1, 0.99468934644404694),\n",
       " (0, 4.1175302368500096e-09),\n",
       " (0, 1.2574750894253029e-11),\n",
       " (0, 3.3252290754668869e-10),\n",
       " (0, 3.2695529799373086e-11),\n",
       " (0, 3.1407283576084884e-09),\n",
       " (0, 1.5800864117150149e-10),\n",
       " (0, 1.9943442430612578e-05),\n",
       " (0, 6.7368003023860014e-06),\n",
       " (0, 1.7089540581641637e-05),\n",
       " (1, 0.9999864188091131),\n",
       " (0, 9.8694940340195476e-13),\n",
       " (0, 2.6059983600823893e-06),\n",
       " (0, 5.9469113009063784e-12)]"
      ]
     },
     "execution_count": 20,
     "metadata": {},
     "output_type": "execute_result"
    }
   ],
   "source": [
    "X_train, X_test, y_train, y_test = train_test_split(X, y_binary_imbalanced, random_state=0)\n",
    "y_proba_lr = lr.fit(X_train, y_train).predict_proba(X_test)\n",
    "y_proba_list = list(zip(y_test[0:20], y_proba_lr[0:20,1]))\n",
    "\n",
    "# show the probability of positive class for first 20 instances\n",
    "y_proba_list"
   ]
  },
  {
   "cell_type": "markdown",
   "metadata": {},
   "source": [
    "### Precision-recall curves"
   ]
  },
  {
   "cell_type": "code",
   "execution_count": 21,
   "metadata": {
    "collapsed": false
   },
   "outputs": [
    {
     "data": {
      "application/javascript": [
       "/* Put everything inside the global mpl namespace */\n",
       "window.mpl = {};\n",
       "\n",
       "\n",
       "mpl.get_websocket_type = function() {\n",
       "    if (typeof(WebSocket) !== 'undefined') {\n",
       "        return WebSocket;\n",
       "    } else if (typeof(MozWebSocket) !== 'undefined') {\n",
       "        return MozWebSocket;\n",
       "    } else {\n",
       "        alert('Your browser does not have WebSocket support.' +\n",
       "              'Please try Chrome, Safari or Firefox ≥ 6. ' +\n",
       "              'Firefox 4 and 5 are also supported but you ' +\n",
       "              'have to enable WebSockets in about:config.');\n",
       "    };\n",
       "}\n",
       "\n",
       "mpl.figure = function(figure_id, websocket, ondownload, parent_element) {\n",
       "    this.id = figure_id;\n",
       "\n",
       "    this.ws = websocket;\n",
       "\n",
       "    this.supports_binary = (this.ws.binaryType != undefined);\n",
       "\n",
       "    if (!this.supports_binary) {\n",
       "        var warnings = document.getElementById(\"mpl-warnings\");\n",
       "        if (warnings) {\n",
       "            warnings.style.display = 'block';\n",
       "            warnings.textContent = (\n",
       "                \"This browser does not support binary websocket messages. \" +\n",
       "                    \"Performance may be slow.\");\n",
       "        }\n",
       "    }\n",
       "\n",
       "    this.imageObj = new Image();\n",
       "\n",
       "    this.context = undefined;\n",
       "    this.message = undefined;\n",
       "    this.canvas = undefined;\n",
       "    this.rubberband_canvas = undefined;\n",
       "    this.rubberband_context = undefined;\n",
       "    this.format_dropdown = undefined;\n",
       "\n",
       "    this.image_mode = 'full';\n",
       "\n",
       "    this.root = $('<div/>');\n",
       "    this._root_extra_style(this.root)\n",
       "    this.root.attr('style', 'display: inline-block');\n",
       "\n",
       "    $(parent_element).append(this.root);\n",
       "\n",
       "    this._init_header(this);\n",
       "    this._init_canvas(this);\n",
       "    this._init_toolbar(this);\n",
       "\n",
       "    var fig = this;\n",
       "\n",
       "    this.waiting = false;\n",
       "\n",
       "    this.ws.onopen =  function () {\n",
       "            fig.send_message(\"supports_binary\", {value: fig.supports_binary});\n",
       "            fig.send_message(\"send_image_mode\", {});\n",
       "            if (mpl.ratio != 1) {\n",
       "                fig.send_message(\"set_dpi_ratio\", {'dpi_ratio': mpl.ratio});\n",
       "            }\n",
       "            fig.send_message(\"refresh\", {});\n",
       "        }\n",
       "\n",
       "    this.imageObj.onload = function() {\n",
       "            if (fig.image_mode == 'full') {\n",
       "                // Full images could contain transparency (where diff images\n",
       "                // almost always do), so we need to clear the canvas so that\n",
       "                // there is no ghosting.\n",
       "                fig.context.clearRect(0, 0, fig.canvas.width, fig.canvas.height);\n",
       "            }\n",
       "            fig.context.drawImage(fig.imageObj, 0, 0);\n",
       "        };\n",
       "\n",
       "    this.imageObj.onunload = function() {\n",
       "        this.ws.close();\n",
       "    }\n",
       "\n",
       "    this.ws.onmessage = this._make_on_message_function(this);\n",
       "\n",
       "    this.ondownload = ondownload;\n",
       "}\n",
       "\n",
       "mpl.figure.prototype._init_header = function() {\n",
       "    var titlebar = $(\n",
       "        '<div class=\"ui-dialog-titlebar ui-widget-header ui-corner-all ' +\n",
       "        'ui-helper-clearfix\"/>');\n",
       "    var titletext = $(\n",
       "        '<div class=\"ui-dialog-title\" style=\"width: 100%; ' +\n",
       "        'text-align: center; padding: 3px;\"/>');\n",
       "    titlebar.append(titletext)\n",
       "    this.root.append(titlebar);\n",
       "    this.header = titletext[0];\n",
       "}\n",
       "\n",
       "\n",
       "\n",
       "mpl.figure.prototype._canvas_extra_style = function(canvas_div) {\n",
       "\n",
       "}\n",
       "\n",
       "\n",
       "mpl.figure.prototype._root_extra_style = function(canvas_div) {\n",
       "\n",
       "}\n",
       "\n",
       "mpl.figure.prototype._init_canvas = function() {\n",
       "    var fig = this;\n",
       "\n",
       "    var canvas_div = $('<div/>');\n",
       "\n",
       "    canvas_div.attr('style', 'position: relative; clear: both; outline: 0');\n",
       "\n",
       "    function canvas_keyboard_event(event) {\n",
       "        return fig.key_event(event, event['data']);\n",
       "    }\n",
       "\n",
       "    canvas_div.keydown('key_press', canvas_keyboard_event);\n",
       "    canvas_div.keyup('key_release', canvas_keyboard_event);\n",
       "    this.canvas_div = canvas_div\n",
       "    this._canvas_extra_style(canvas_div)\n",
       "    this.root.append(canvas_div);\n",
       "\n",
       "    var canvas = $('<canvas/>');\n",
       "    canvas.addClass('mpl-canvas');\n",
       "    canvas.attr('style', \"left: 0; top: 0; z-index: 0; outline: 0\")\n",
       "\n",
       "    this.canvas = canvas[0];\n",
       "    this.context = canvas[0].getContext(\"2d\");\n",
       "\n",
       "    var backingStore = this.context.backingStorePixelRatio ||\n",
       "\tthis.context.webkitBackingStorePixelRatio ||\n",
       "\tthis.context.mozBackingStorePixelRatio ||\n",
       "\tthis.context.msBackingStorePixelRatio ||\n",
       "\tthis.context.oBackingStorePixelRatio ||\n",
       "\tthis.context.backingStorePixelRatio || 1;\n",
       "\n",
       "    mpl.ratio = (window.devicePixelRatio || 1) / backingStore;\n",
       "\n",
       "    var rubberband = $('<canvas/>');\n",
       "    rubberband.attr('style', \"position: absolute; left: 0; top: 0; z-index: 1;\")\n",
       "\n",
       "    var pass_mouse_events = true;\n",
       "\n",
       "    canvas_div.resizable({\n",
       "        start: function(event, ui) {\n",
       "            pass_mouse_events = false;\n",
       "        },\n",
       "        resize: function(event, ui) {\n",
       "            fig.request_resize(ui.size.width, ui.size.height);\n",
       "        },\n",
       "        stop: function(event, ui) {\n",
       "            pass_mouse_events = true;\n",
       "            fig.request_resize(ui.size.width, ui.size.height);\n",
       "        },\n",
       "    });\n",
       "\n",
       "    function mouse_event_fn(event) {\n",
       "        if (pass_mouse_events)\n",
       "            return fig.mouse_event(event, event['data']);\n",
       "    }\n",
       "\n",
       "    rubberband.mousedown('button_press', mouse_event_fn);\n",
       "    rubberband.mouseup('button_release', mouse_event_fn);\n",
       "    // Throttle sequential mouse events to 1 every 20ms.\n",
       "    rubberband.mousemove('motion_notify', mouse_event_fn);\n",
       "\n",
       "    rubberband.mouseenter('figure_enter', mouse_event_fn);\n",
       "    rubberband.mouseleave('figure_leave', mouse_event_fn);\n",
       "\n",
       "    canvas_div.on(\"wheel\", function (event) {\n",
       "        event = event.originalEvent;\n",
       "        event['data'] = 'scroll'\n",
       "        if (event.deltaY < 0) {\n",
       "            event.step = 1;\n",
       "        } else {\n",
       "            event.step = -1;\n",
       "        }\n",
       "        mouse_event_fn(event);\n",
       "    });\n",
       "\n",
       "    canvas_div.append(canvas);\n",
       "    canvas_div.append(rubberband);\n",
       "\n",
       "    this.rubberband = rubberband;\n",
       "    this.rubberband_canvas = rubberband[0];\n",
       "    this.rubberband_context = rubberband[0].getContext(\"2d\");\n",
       "    this.rubberband_context.strokeStyle = \"#000000\";\n",
       "\n",
       "    this._resize_canvas = function(width, height) {\n",
       "        // Keep the size of the canvas, canvas container, and rubber band\n",
       "        // canvas in synch.\n",
       "        canvas_div.css('width', width)\n",
       "        canvas_div.css('height', height)\n",
       "\n",
       "        canvas.attr('width', width * mpl.ratio);\n",
       "        canvas.attr('height', height * mpl.ratio);\n",
       "        canvas.attr('style', 'width: ' + width + 'px; height: ' + height + 'px;');\n",
       "\n",
       "        rubberband.attr('width', width);\n",
       "        rubberband.attr('height', height);\n",
       "    }\n",
       "\n",
       "    // Set the figure to an initial 600x600px, this will subsequently be updated\n",
       "    // upon first draw.\n",
       "    this._resize_canvas(600, 600);\n",
       "\n",
       "    // Disable right mouse context menu.\n",
       "    $(this.rubberband_canvas).bind(\"contextmenu\",function(e){\n",
       "        return false;\n",
       "    });\n",
       "\n",
       "    function set_focus () {\n",
       "        canvas.focus();\n",
       "        canvas_div.focus();\n",
       "    }\n",
       "\n",
       "    window.setTimeout(set_focus, 100);\n",
       "}\n",
       "\n",
       "mpl.figure.prototype._init_toolbar = function() {\n",
       "    var fig = this;\n",
       "\n",
       "    var nav_element = $('<div/>')\n",
       "    nav_element.attr('style', 'width: 100%');\n",
       "    this.root.append(nav_element);\n",
       "\n",
       "    // Define a callback function for later on.\n",
       "    function toolbar_event(event) {\n",
       "        return fig.toolbar_button_onclick(event['data']);\n",
       "    }\n",
       "    function toolbar_mouse_event(event) {\n",
       "        return fig.toolbar_button_onmouseover(event['data']);\n",
       "    }\n",
       "\n",
       "    for(var toolbar_ind in mpl.toolbar_items) {\n",
       "        var name = mpl.toolbar_items[toolbar_ind][0];\n",
       "        var tooltip = mpl.toolbar_items[toolbar_ind][1];\n",
       "        var image = mpl.toolbar_items[toolbar_ind][2];\n",
       "        var method_name = mpl.toolbar_items[toolbar_ind][3];\n",
       "\n",
       "        if (!name) {\n",
       "            // put a spacer in here.\n",
       "            continue;\n",
       "        }\n",
       "        var button = $('<button/>');\n",
       "        button.addClass('ui-button ui-widget ui-state-default ui-corner-all ' +\n",
       "                        'ui-button-icon-only');\n",
       "        button.attr('role', 'button');\n",
       "        button.attr('aria-disabled', 'false');\n",
       "        button.click(method_name, toolbar_event);\n",
       "        button.mouseover(tooltip, toolbar_mouse_event);\n",
       "\n",
       "        var icon_img = $('<span/>');\n",
       "        icon_img.addClass('ui-button-icon-primary ui-icon');\n",
       "        icon_img.addClass(image);\n",
       "        icon_img.addClass('ui-corner-all');\n",
       "\n",
       "        var tooltip_span = $('<span/>');\n",
       "        tooltip_span.addClass('ui-button-text');\n",
       "        tooltip_span.html(tooltip);\n",
       "\n",
       "        button.append(icon_img);\n",
       "        button.append(tooltip_span);\n",
       "\n",
       "        nav_element.append(button);\n",
       "    }\n",
       "\n",
       "    var fmt_picker_span = $('<span/>');\n",
       "\n",
       "    var fmt_picker = $('<select/>');\n",
       "    fmt_picker.addClass('mpl-toolbar-option ui-widget ui-widget-content');\n",
       "    fmt_picker_span.append(fmt_picker);\n",
       "    nav_element.append(fmt_picker_span);\n",
       "    this.format_dropdown = fmt_picker[0];\n",
       "\n",
       "    for (var ind in mpl.extensions) {\n",
       "        var fmt = mpl.extensions[ind];\n",
       "        var option = $(\n",
       "            '<option/>', {selected: fmt === mpl.default_extension}).html(fmt);\n",
       "        fmt_picker.append(option)\n",
       "    }\n",
       "\n",
       "    // Add hover states to the ui-buttons\n",
       "    $( \".ui-button\" ).hover(\n",
       "        function() { $(this).addClass(\"ui-state-hover\");},\n",
       "        function() { $(this).removeClass(\"ui-state-hover\");}\n",
       "    );\n",
       "\n",
       "    var status_bar = $('<span class=\"mpl-message\"/>');\n",
       "    nav_element.append(status_bar);\n",
       "    this.message = status_bar[0];\n",
       "}\n",
       "\n",
       "mpl.figure.prototype.request_resize = function(x_pixels, y_pixels) {\n",
       "    // Request matplotlib to resize the figure. Matplotlib will then trigger a resize in the client,\n",
       "    // which will in turn request a refresh of the image.\n",
       "    this.send_message('resize', {'width': x_pixels, 'height': y_pixels});\n",
       "}\n",
       "\n",
       "mpl.figure.prototype.send_message = function(type, properties) {\n",
       "    properties['type'] = type;\n",
       "    properties['figure_id'] = this.id;\n",
       "    this.ws.send(JSON.stringify(properties));\n",
       "}\n",
       "\n",
       "mpl.figure.prototype.send_draw_message = function() {\n",
       "    if (!this.waiting) {\n",
       "        this.waiting = true;\n",
       "        this.ws.send(JSON.stringify({type: \"draw\", figure_id: this.id}));\n",
       "    }\n",
       "}\n",
       "\n",
       "\n",
       "mpl.figure.prototype.handle_save = function(fig, msg) {\n",
       "    var format_dropdown = fig.format_dropdown;\n",
       "    var format = format_dropdown.options[format_dropdown.selectedIndex].value;\n",
       "    fig.ondownload(fig, format);\n",
       "}\n",
       "\n",
       "\n",
       "mpl.figure.prototype.handle_resize = function(fig, msg) {\n",
       "    var size = msg['size'];\n",
       "    if (size[0] != fig.canvas.width || size[1] != fig.canvas.height) {\n",
       "        fig._resize_canvas(size[0], size[1]);\n",
       "        fig.send_message(\"refresh\", {});\n",
       "    };\n",
       "}\n",
       "\n",
       "mpl.figure.prototype.handle_rubberband = function(fig, msg) {\n",
       "    var x0 = msg['x0'] / mpl.ratio;\n",
       "    var y0 = (fig.canvas.height - msg['y0']) / mpl.ratio;\n",
       "    var x1 = msg['x1'] / mpl.ratio;\n",
       "    var y1 = (fig.canvas.height - msg['y1']) / mpl.ratio;\n",
       "    x0 = Math.floor(x0) + 0.5;\n",
       "    y0 = Math.floor(y0) + 0.5;\n",
       "    x1 = Math.floor(x1) + 0.5;\n",
       "    y1 = Math.floor(y1) + 0.5;\n",
       "    var min_x = Math.min(x0, x1);\n",
       "    var min_y = Math.min(y0, y1);\n",
       "    var width = Math.abs(x1 - x0);\n",
       "    var height = Math.abs(y1 - y0);\n",
       "\n",
       "    fig.rubberband_context.clearRect(\n",
       "        0, 0, fig.canvas.width, fig.canvas.height);\n",
       "\n",
       "    fig.rubberband_context.strokeRect(min_x, min_y, width, height);\n",
       "}\n",
       "\n",
       "mpl.figure.prototype.handle_figure_label = function(fig, msg) {\n",
       "    // Updates the figure title.\n",
       "    fig.header.textContent = msg['label'];\n",
       "}\n",
       "\n",
       "mpl.figure.prototype.handle_cursor = function(fig, msg) {\n",
       "    var cursor = msg['cursor'];\n",
       "    switch(cursor)\n",
       "    {\n",
       "    case 0:\n",
       "        cursor = 'pointer';\n",
       "        break;\n",
       "    case 1:\n",
       "        cursor = 'default';\n",
       "        break;\n",
       "    case 2:\n",
       "        cursor = 'crosshair';\n",
       "        break;\n",
       "    case 3:\n",
       "        cursor = 'move';\n",
       "        break;\n",
       "    }\n",
       "    fig.rubberband_canvas.style.cursor = cursor;\n",
       "}\n",
       "\n",
       "mpl.figure.prototype.handle_message = function(fig, msg) {\n",
       "    fig.message.textContent = msg['message'];\n",
       "}\n",
       "\n",
       "mpl.figure.prototype.handle_draw = function(fig, msg) {\n",
       "    // Request the server to send over a new figure.\n",
       "    fig.send_draw_message();\n",
       "}\n",
       "\n",
       "mpl.figure.prototype.handle_image_mode = function(fig, msg) {\n",
       "    fig.image_mode = msg['mode'];\n",
       "}\n",
       "\n",
       "mpl.figure.prototype.updated_canvas_event = function() {\n",
       "    // Called whenever the canvas gets updated.\n",
       "    this.send_message(\"ack\", {});\n",
       "}\n",
       "\n",
       "// A function to construct a web socket function for onmessage handling.\n",
       "// Called in the figure constructor.\n",
       "mpl.figure.prototype._make_on_message_function = function(fig) {\n",
       "    return function socket_on_message(evt) {\n",
       "        if (evt.data instanceof Blob) {\n",
       "            /* FIXME: We get \"Resource interpreted as Image but\n",
       "             * transferred with MIME type text/plain:\" errors on\n",
       "             * Chrome.  But how to set the MIME type?  It doesn't seem\n",
       "             * to be part of the websocket stream */\n",
       "            evt.data.type = \"image/png\";\n",
       "\n",
       "            /* Free the memory for the previous frames */\n",
       "            if (fig.imageObj.src) {\n",
       "                (window.URL || window.webkitURL).revokeObjectURL(\n",
       "                    fig.imageObj.src);\n",
       "            }\n",
       "\n",
       "            fig.imageObj.src = (window.URL || window.webkitURL).createObjectURL(\n",
       "                evt.data);\n",
       "            fig.updated_canvas_event();\n",
       "            fig.waiting = false;\n",
       "            return;\n",
       "        }\n",
       "        else if (typeof evt.data === 'string' && evt.data.slice(0, 21) == \"data:image/png;base64\") {\n",
       "            fig.imageObj.src = evt.data;\n",
       "            fig.updated_canvas_event();\n",
       "            fig.waiting = false;\n",
       "            return;\n",
       "        }\n",
       "\n",
       "        var msg = JSON.parse(evt.data);\n",
       "        var msg_type = msg['type'];\n",
       "\n",
       "        // Call the  \"handle_{type}\" callback, which takes\n",
       "        // the figure and JSON message as its only arguments.\n",
       "        try {\n",
       "            var callback = fig[\"handle_\" + msg_type];\n",
       "        } catch (e) {\n",
       "            console.log(\"No handler for the '\" + msg_type + \"' message type: \", msg);\n",
       "            return;\n",
       "        }\n",
       "\n",
       "        if (callback) {\n",
       "            try {\n",
       "                // console.log(\"Handling '\" + msg_type + \"' message: \", msg);\n",
       "                callback(fig, msg);\n",
       "            } catch (e) {\n",
       "                console.log(\"Exception inside the 'handler_\" + msg_type + \"' callback:\", e, e.stack, msg);\n",
       "            }\n",
       "        }\n",
       "    };\n",
       "}\n",
       "\n",
       "// from http://stackoverflow.com/questions/1114465/getting-mouse-location-in-canvas\n",
       "mpl.findpos = function(e) {\n",
       "    //this section is from http://www.quirksmode.org/js/events_properties.html\n",
       "    var targ;\n",
       "    if (!e)\n",
       "        e = window.event;\n",
       "    if (e.target)\n",
       "        targ = e.target;\n",
       "    else if (e.srcElement)\n",
       "        targ = e.srcElement;\n",
       "    if (targ.nodeType == 3) // defeat Safari bug\n",
       "        targ = targ.parentNode;\n",
       "\n",
       "    // jQuery normalizes the pageX and pageY\n",
       "    // pageX,Y are the mouse positions relative to the document\n",
       "    // offset() returns the position of the element relative to the document\n",
       "    var x = e.pageX - $(targ).offset().left;\n",
       "    var y = e.pageY - $(targ).offset().top;\n",
       "\n",
       "    return {\"x\": x, \"y\": y};\n",
       "};\n",
       "\n",
       "/*\n",
       " * return a copy of an object with only non-object keys\n",
       " * we need this to avoid circular references\n",
       " * http://stackoverflow.com/a/24161582/3208463\n",
       " */\n",
       "function simpleKeys (original) {\n",
       "  return Object.keys(original).reduce(function (obj, key) {\n",
       "    if (typeof original[key] !== 'object')\n",
       "        obj[key] = original[key]\n",
       "    return obj;\n",
       "  }, {});\n",
       "}\n",
       "\n",
       "mpl.figure.prototype.mouse_event = function(event, name) {\n",
       "    var canvas_pos = mpl.findpos(event)\n",
       "\n",
       "    if (name === 'button_press')\n",
       "    {\n",
       "        this.canvas.focus();\n",
       "        this.canvas_div.focus();\n",
       "    }\n",
       "\n",
       "    var x = canvas_pos.x * mpl.ratio;\n",
       "    var y = canvas_pos.y * mpl.ratio;\n",
       "\n",
       "    this.send_message(name, {x: x, y: y, button: event.button,\n",
       "                             step: event.step,\n",
       "                             guiEvent: simpleKeys(event)});\n",
       "\n",
       "    /* This prevents the web browser from automatically changing to\n",
       "     * the text insertion cursor when the button is pressed.  We want\n",
       "     * to control all of the cursor setting manually through the\n",
       "     * 'cursor' event from matplotlib */\n",
       "    event.preventDefault();\n",
       "    return false;\n",
       "}\n",
       "\n",
       "mpl.figure.prototype._key_event_extra = function(event, name) {\n",
       "    // Handle any extra behaviour associated with a key event\n",
       "}\n",
       "\n",
       "mpl.figure.prototype.key_event = function(event, name) {\n",
       "\n",
       "    // Prevent repeat events\n",
       "    if (name == 'key_press')\n",
       "    {\n",
       "        if (event.which === this._key)\n",
       "            return;\n",
       "        else\n",
       "            this._key = event.which;\n",
       "    }\n",
       "    if (name == 'key_release')\n",
       "        this._key = null;\n",
       "\n",
       "    var value = '';\n",
       "    if (event.ctrlKey && event.which != 17)\n",
       "        value += \"ctrl+\";\n",
       "    if (event.altKey && event.which != 18)\n",
       "        value += \"alt+\";\n",
       "    if (event.shiftKey && event.which != 16)\n",
       "        value += \"shift+\";\n",
       "\n",
       "    value += 'k';\n",
       "    value += event.which.toString();\n",
       "\n",
       "    this._key_event_extra(event, name);\n",
       "\n",
       "    this.send_message(name, {key: value,\n",
       "                             guiEvent: simpleKeys(event)});\n",
       "    return false;\n",
       "}\n",
       "\n",
       "mpl.figure.prototype.toolbar_button_onclick = function(name) {\n",
       "    if (name == 'download') {\n",
       "        this.handle_save(this, null);\n",
       "    } else {\n",
       "        this.send_message(\"toolbar_button\", {name: name});\n",
       "    }\n",
       "};\n",
       "\n",
       "mpl.figure.prototype.toolbar_button_onmouseover = function(tooltip) {\n",
       "    this.message.textContent = tooltip;\n",
       "};\n",
       "mpl.toolbar_items = [[\"Home\", \"Reset original view\", \"fa fa-home icon-home\", \"home\"], [\"Back\", \"Back to  previous view\", \"fa fa-arrow-left icon-arrow-left\", \"back\"], [\"Forward\", \"Forward to next view\", \"fa fa-arrow-right icon-arrow-right\", \"forward\"], [\"\", \"\", \"\", \"\"], [\"Pan\", \"Pan axes with left mouse, zoom with right\", \"fa fa-arrows icon-move\", \"pan\"], [\"Zoom\", \"Zoom to rectangle\", \"fa fa-square-o icon-check-empty\", \"zoom\"], [\"\", \"\", \"\", \"\"], [\"Download\", \"Download plot\", \"fa fa-floppy-o icon-save\", \"download\"]];\n",
       "\n",
       "mpl.extensions = [\"eps\", \"jpeg\", \"pdf\", \"png\", \"ps\", \"raw\", \"svg\", \"tif\"];\n",
       "\n",
       "mpl.default_extension = \"png\";var comm_websocket_adapter = function(comm) {\n",
       "    // Create a \"websocket\"-like object which calls the given IPython comm\n",
       "    // object with the appropriate methods. Currently this is a non binary\n",
       "    // socket, so there is still some room for performance tuning.\n",
       "    var ws = {};\n",
       "\n",
       "    ws.close = function() {\n",
       "        comm.close()\n",
       "    };\n",
       "    ws.send = function(m) {\n",
       "        //console.log('sending', m);\n",
       "        comm.send(m);\n",
       "    };\n",
       "    // Register the callback with on_msg.\n",
       "    comm.on_msg(function(msg) {\n",
       "        //console.log('receiving', msg['content']['data'], msg);\n",
       "        // Pass the mpl event to the overriden (by mpl) onmessage function.\n",
       "        ws.onmessage(msg['content']['data'])\n",
       "    });\n",
       "    return ws;\n",
       "}\n",
       "\n",
       "mpl.mpl_figure_comm = function(comm, msg) {\n",
       "    // This is the function which gets called when the mpl process\n",
       "    // starts-up an IPython Comm through the \"matplotlib\" channel.\n",
       "\n",
       "    var id = msg.content.data.id;\n",
       "    // Get hold of the div created by the display call when the Comm\n",
       "    // socket was opened in Python.\n",
       "    var element = $(\"#\" + id);\n",
       "    var ws_proxy = comm_websocket_adapter(comm)\n",
       "\n",
       "    function ondownload(figure, format) {\n",
       "        window.open(figure.imageObj.src);\n",
       "    }\n",
       "\n",
       "    var fig = new mpl.figure(id, ws_proxy,\n",
       "                           ondownload,\n",
       "                           element.get(0));\n",
       "\n",
       "    // Call onopen now - mpl needs it, as it is assuming we've passed it a real\n",
       "    // web socket which is closed, not our websocket->open comm proxy.\n",
       "    ws_proxy.onopen();\n",
       "\n",
       "    fig.parent_element = element.get(0);\n",
       "    fig.cell_info = mpl.find_output_cell(\"<div id='\" + id + \"'></div>\");\n",
       "    if (!fig.cell_info) {\n",
       "        console.error(\"Failed to find cell for figure\", id, fig);\n",
       "        return;\n",
       "    }\n",
       "\n",
       "    var output_index = fig.cell_info[2]\n",
       "    var cell = fig.cell_info[0];\n",
       "\n",
       "};\n",
       "\n",
       "mpl.figure.prototype.handle_close = function(fig, msg) {\n",
       "    var width = fig.canvas.width/mpl.ratio\n",
       "    fig.root.unbind('remove')\n",
       "\n",
       "    // Update the output cell to use the data from the current canvas.\n",
       "    fig.push_to_output();\n",
       "    var dataURL = fig.canvas.toDataURL();\n",
       "    // Re-enable the keyboard manager in IPython - without this line, in FF,\n",
       "    // the notebook keyboard shortcuts fail.\n",
       "    IPython.keyboard_manager.enable()\n",
       "    $(fig.parent_element).html('<img src=\"' + dataURL + '\" width=\"' + width + '\">');\n",
       "    fig.close_ws(fig, msg);\n",
       "}\n",
       "\n",
       "mpl.figure.prototype.close_ws = function(fig, msg){\n",
       "    fig.send_message('closing', msg);\n",
       "    // fig.ws.close()\n",
       "}\n",
       "\n",
       "mpl.figure.prototype.push_to_output = function(remove_interactive) {\n",
       "    // Turn the data on the canvas into data in the output cell.\n",
       "    var width = this.canvas.width/mpl.ratio\n",
       "    var dataURL = this.canvas.toDataURL();\n",
       "    this.cell_info[1]['text/html'] = '<img src=\"' + dataURL + '\" width=\"' + width + '\">';\n",
       "}\n",
       "\n",
       "mpl.figure.prototype.updated_canvas_event = function() {\n",
       "    // Tell IPython that the notebook contents must change.\n",
       "    IPython.notebook.set_dirty(true);\n",
       "    this.send_message(\"ack\", {});\n",
       "    var fig = this;\n",
       "    // Wait a second, then push the new image to the DOM so\n",
       "    // that it is saved nicely (might be nice to debounce this).\n",
       "    setTimeout(function () { fig.push_to_output() }, 1000);\n",
       "}\n",
       "\n",
       "mpl.figure.prototype._init_toolbar = function() {\n",
       "    var fig = this;\n",
       "\n",
       "    var nav_element = $('<div/>')\n",
       "    nav_element.attr('style', 'width: 100%');\n",
       "    this.root.append(nav_element);\n",
       "\n",
       "    // Define a callback function for later on.\n",
       "    function toolbar_event(event) {\n",
       "        return fig.toolbar_button_onclick(event['data']);\n",
       "    }\n",
       "    function toolbar_mouse_event(event) {\n",
       "        return fig.toolbar_button_onmouseover(event['data']);\n",
       "    }\n",
       "\n",
       "    for(var toolbar_ind in mpl.toolbar_items){\n",
       "        var name = mpl.toolbar_items[toolbar_ind][0];\n",
       "        var tooltip = mpl.toolbar_items[toolbar_ind][1];\n",
       "        var image = mpl.toolbar_items[toolbar_ind][2];\n",
       "        var method_name = mpl.toolbar_items[toolbar_ind][3];\n",
       "\n",
       "        if (!name) { continue; };\n",
       "\n",
       "        var button = $('<button class=\"btn btn-default\" href=\"#\" title=\"' + name + '\"><i class=\"fa ' + image + ' fa-lg\"></i></button>');\n",
       "        button.click(method_name, toolbar_event);\n",
       "        button.mouseover(tooltip, toolbar_mouse_event);\n",
       "        nav_element.append(button);\n",
       "    }\n",
       "\n",
       "    // Add the status bar.\n",
       "    var status_bar = $('<span class=\"mpl-message\" style=\"text-align:right; float: right;\"/>');\n",
       "    nav_element.append(status_bar);\n",
       "    this.message = status_bar[0];\n",
       "\n",
       "    // Add the close button to the window.\n",
       "    var buttongrp = $('<div class=\"btn-group inline pull-right\"></div>');\n",
       "    var button = $('<button class=\"btn btn-mini btn-primary\" href=\"#\" title=\"Stop Interaction\"><i class=\"fa fa-power-off icon-remove icon-large\"></i></button>');\n",
       "    button.click(function (evt) { fig.handle_close(fig, {}); } );\n",
       "    button.mouseover('Stop Interaction', toolbar_mouse_event);\n",
       "    buttongrp.append(button);\n",
       "    var titlebar = this.root.find($('.ui-dialog-titlebar'));\n",
       "    titlebar.prepend(buttongrp);\n",
       "}\n",
       "\n",
       "mpl.figure.prototype._root_extra_style = function(el){\n",
       "    var fig = this\n",
       "    el.on(\"remove\", function(){\n",
       "\tfig.close_ws(fig, {});\n",
       "    });\n",
       "}\n",
       "\n",
       "mpl.figure.prototype._canvas_extra_style = function(el){\n",
       "    // this is important to make the div 'focusable\n",
       "    el.attr('tabindex', 0)\n",
       "    // reach out to IPython and tell the keyboard manager to turn it's self\n",
       "    // off when our div gets focus\n",
       "\n",
       "    // location in version 3\n",
       "    if (IPython.notebook.keyboard_manager) {\n",
       "        IPython.notebook.keyboard_manager.register_events(el);\n",
       "    }\n",
       "    else {\n",
       "        // location in version 2\n",
       "        IPython.keyboard_manager.register_events(el);\n",
       "    }\n",
       "\n",
       "}\n",
       "\n",
       "mpl.figure.prototype._key_event_extra = function(event, name) {\n",
       "    var manager = IPython.notebook.keyboard_manager;\n",
       "    if (!manager)\n",
       "        manager = IPython.keyboard_manager;\n",
       "\n",
       "    // Check for shift+enter\n",
       "    if (event.shiftKey && event.which == 13) {\n",
       "        this.canvas_div.blur();\n",
       "        // select the cell after this one\n",
       "        var index = IPython.notebook.find_cell_index(this.cell_info[0]);\n",
       "        IPython.notebook.select(index + 1);\n",
       "    }\n",
       "}\n",
       "\n",
       "mpl.figure.prototype.handle_save = function(fig, msg) {\n",
       "    fig.ondownload(fig, null);\n",
       "}\n",
       "\n",
       "\n",
       "mpl.find_output_cell = function(html_output) {\n",
       "    // Return the cell and output element which can be found *uniquely* in the notebook.\n",
       "    // Note - this is a bit hacky, but it is done because the \"notebook_saving.Notebook\"\n",
       "    // IPython event is triggered only after the cells have been serialised, which for\n",
       "    // our purposes (turning an active figure into a static one), is too late.\n",
       "    var cells = IPython.notebook.get_cells();\n",
       "    var ncells = cells.length;\n",
       "    for (var i=0; i<ncells; i++) {\n",
       "        var cell = cells[i];\n",
       "        if (cell.cell_type === 'code'){\n",
       "            for (var j=0; j<cell.output_area.outputs.length; j++) {\n",
       "                var data = cell.output_area.outputs[j];\n",
       "                if (data.data) {\n",
       "                    // IPython >= 3 moved mimebundle to data attribute of output\n",
       "                    data = data.data;\n",
       "                }\n",
       "                if (data['text/html'] == html_output) {\n",
       "                    return [cell, data, j];\n",
       "                }\n",
       "            }\n",
       "        }\n",
       "    }\n",
       "}\n",
       "\n",
       "// Register the function which deals with the matplotlib target/channel.\n",
       "// The kernel may be null if the page has been refreshed.\n",
       "if (IPython.notebook.kernel != null) {\n",
       "    IPython.notebook.kernel.comm_manager.register_target('matplotlib', mpl.mpl_figure_comm);\n",
       "}\n"
      ],
      "text/plain": [
       "<IPython.core.display.Javascript object>"
      ]
     },
     "metadata": {},
     "output_type": "display_data"
    },
    {
     "data": {
      "text/html": [
       "<img src=\"data:image/png;base64,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\" width=\"798.8889100522176\">"
      ],
      "text/plain": [
       "<IPython.core.display.HTML object>"
      ]
     },
     "metadata": {},
     "output_type": "display_data"
    }
   ],
   "source": [
    "from sklearn.metrics import precision_recall_curve\n",
    "\n",
    "precision, recall, thresholds = precision_recall_curve(y_test, y_scores_lr)\n",
    "closest_zero = np.argmin(np.abs(thresholds))\n",
    "closest_zero_p = precision[closest_zero]\n",
    "closest_zero_r = recall[closest_zero]\n",
    "\n",
    "plt.figure()\n",
    "plt.xlim([0.0, 1.01])\n",
    "plt.ylim([0.0, 1.01])\n",
    "plt.plot(precision, recall, label='Precision-Recall Curve')\n",
    "plt.plot(closest_zero_p, closest_zero_r, 'o', markersize = 12, fillstyle = 'none', c='r', mew=3)\n",
    "plt.xlabel('Precision', fontsize=16)\n",
    "plt.ylabel('Recall', fontsize=16)\n",
    "plt.axes().set_aspect('equal')\n",
    "plt.show()"
   ]
  },
  {
   "cell_type": "markdown",
   "metadata": {},
   "source": [
    "### ROC curves, Area-Under-Curve (AUC)"
   ]
  },
  {
   "cell_type": "code",
   "execution_count": null,
   "metadata": {
    "collapsed": false
   },
   "outputs": [],
   "source": [
    "from sklearn.metrics import roc_curve, auc\n",
    "\n",
    "X_train, X_test, y_train, y_test = train_test_split(X, y_binary_imbalanced, random_state=0)\n",
    "\n",
    "y_score_lr = lr.fit(X_train, y_train).decision_function(X_test)\n",
    "fpr_lr, tpr_lr, _ = roc_curve(y_test, y_score_lr)\n",
    "roc_auc_lr = auc(fpr_lr, tpr_lr)\n",
    "\n",
    "plt.figure()\n",
    "plt.xlim([-0.01, 1.00])\n",
    "plt.ylim([-0.01, 1.01])\n",
    "plt.plot(fpr_lr, tpr_lr, lw=3, label='LogRegr ROC curve (area = {:0.2f})'.format(roc_auc_lr))\n",
    "plt.xlabel('False Positive Rate', fontsize=16)\n",
    "plt.ylabel('True Positive Rate', fontsize=16)\n",
    "plt.title('ROC curve (1-of-10 digits classifier)', fontsize=16)\n",
    "plt.legend(loc='lower right', fontsize=13)\n",
    "plt.plot([0, 1], [0, 1], color='navy', lw=3, linestyle='--')\n",
    "plt.axes().set_aspect('equal')\n",
    "plt.show()"
   ]
  },
  {
   "cell_type": "code",
   "execution_count": null,
   "metadata": {
    "collapsed": false,
    "scrolled": false
   },
   "outputs": [],
   "source": [
    "from matplotlib import cm\n",
    "\n",
    "X_train, X_test, y_train, y_test = train_test_split(X, y_binary_imbalanced, random_state=0)\n",
    "\n",
    "plt.figure()\n",
    "plt.xlim([-0.01, 1.00])\n",
    "plt.ylim([-0.01, 1.01])\n",
    "for g in [0.01, 0.1, 0.20, 1]:\n",
    "    svm = SVC(gamma=g).fit(X_train, y_train)\n",
    "    y_score_svm = svm.decision_function(X_test)\n",
    "    fpr_svm, tpr_svm, _ = roc_curve(y_test, y_score_svm)\n",
    "    roc_auc_svm = auc(fpr_svm, tpr_svm)\n",
    "    accuracy_svm = svm.score(X_test, y_test)\n",
    "    print(\"gamma = {:.2f}  accuracy = {:.2f}   AUC = {:.2f}\".format(g, accuracy_svm, \n",
    "                                                                    roc_auc_svm))\n",
    "    plt.plot(fpr_svm, tpr_svm, lw=3, alpha=0.7, \n",
    "             label='SVM (gamma = {:0.2f}, area = {:0.2f})'.format(g, roc_auc_svm))\n",
    "\n",
    "plt.xlabel('False Positive Rate', fontsize=16)\n",
    "plt.ylabel('True Positive Rate (Recall)', fontsize=16)\n",
    "plt.plot([0, 1], [0, 1], color='k', lw=0.5, linestyle='--')\n",
    "plt.legend(loc=\"lower right\", fontsize=11)\n",
    "plt.title('ROC curve: (1-of-10 digits classifier)', fontsize=16)\n",
    "plt.axes().set_aspect('equal')\n",
    "\n",
    "plt.show()"
   ]
  },
  {
   "cell_type": "markdown",
   "metadata": {},
   "source": [
    "### Evaluation measures for multi-class classification"
   ]
  },
  {
   "cell_type": "markdown",
   "metadata": {},
   "source": [
    "#### Multi-class confusion matrix"
   ]
  },
  {
   "cell_type": "code",
   "execution_count": null,
   "metadata": {
    "collapsed": false,
    "scrolled": false
   },
   "outputs": [],
   "source": [
    "dataset = load_digits()\n",
    "X, y = dataset.data, dataset.target\n",
    "X_train_mc, X_test_mc, y_train_mc, y_test_mc = train_test_split(X, y, random_state=0)\n",
    "\n",
    "\n",
    "svm = SVC(kernel = 'linear').fit(X_train_mc, y_train_mc)\n",
    "svm_predicted_mc = svm.predict(X_test_mc)\n",
    "confusion_mc = confusion_matrix(y_test_mc, svm_predicted_mc)\n",
    "df_cm = pd.DataFrame(confusion_mc, \n",
    "                     index = [i for i in range(0,10)], columns = [i for i in range(0,10)])\n",
    "\n",
    "plt.figure(figsize=(5.5,4))\n",
    "sns.heatmap(df_cm, annot=True)\n",
    "plt.title('SVM Linear Kernel \\nAccuracy:{0:.3f}'.format(accuracy_score(y_test_mc, \n",
    "                                                                       svm_predicted_mc)))\n",
    "plt.ylabel('True label')\n",
    "plt.xlabel('Predicted label')\n",
    "\n",
    "\n",
    "svm = SVC(kernel = 'rbf').fit(X_train_mc, y_train_mc)\n",
    "svm_predicted_mc = svm.predict(X_test_mc)\n",
    "confusion_mc = confusion_matrix(y_test_mc, svm_predicted_mc)\n",
    "df_cm = pd.DataFrame(confusion_mc, index = [i for i in range(0,10)],\n",
    "                  columns = [i for i in range(0,10)])\n",
    "\n",
    "plt.figure(figsize = (5.5,4))\n",
    "sns.heatmap(df_cm, annot=True)\n",
    "plt.title('SVM RBF Kernel \\nAccuracy:{0:.3f}'.format(accuracy_score(y_test_mc, \n",
    "                                                                    svm_predicted_mc)))\n",
    "plt.ylabel('True label')\n",
    "plt.xlabel('Predicted label');"
   ]
  },
  {
   "cell_type": "markdown",
   "metadata": {},
   "source": [
    "#### Multi-class classification report"
   ]
  },
  {
   "cell_type": "code",
   "execution_count": null,
   "metadata": {
    "collapsed": false
   },
   "outputs": [],
   "source": [
    "print(classification_report(y_test_mc, svm_predicted_mc))"
   ]
  },
  {
   "cell_type": "markdown",
   "metadata": {},
   "source": [
    "#### Micro- vs. macro-averaged metrics"
   ]
  },
  {
   "cell_type": "code",
   "execution_count": null,
   "metadata": {
    "collapsed": false
   },
   "outputs": [],
   "source": [
    "print('Micro-averaged precision = {:.2f} (treat instances equally)'\n",
    "      .format(precision_score(y_test_mc, svm_predicted_mc, average = 'micro')))\n",
    "print('Macro-averaged precision = {:.2f} (treat classes equally)'\n",
    "      .format(precision_score(y_test_mc, svm_predicted_mc, average = 'macro')))"
   ]
  },
  {
   "cell_type": "code",
   "execution_count": null,
   "metadata": {
    "collapsed": false
   },
   "outputs": [],
   "source": [
    "print('Micro-averaged f1 = {:.2f} (treat instances equally)'\n",
    "      .format(f1_score(y_test_mc, svm_predicted_mc, average = 'micro')))\n",
    "print('Macro-averaged f1 = {:.2f} (treat classes equally)'\n",
    "      .format(f1_score(y_test_mc, svm_predicted_mc, average = 'macro')))"
   ]
  },
  {
   "cell_type": "markdown",
   "metadata": {},
   "source": [
    "### Regression evaluation metrics"
   ]
  },
  {
   "cell_type": "code",
   "execution_count": null,
   "metadata": {
    "collapsed": false
   },
   "outputs": [],
   "source": [
    "%matplotlib notebook\n",
    "import matplotlib.pyplot as plt\n",
    "import numpy as np\n",
    "from sklearn.model_selection import train_test_split\n",
    "from sklearn import datasets\n",
    "from sklearn.linear_model import LinearRegression\n",
    "from sklearn.metrics import mean_squared_error, r2_score\n",
    "from sklearn.dummy import DummyRegressor\n",
    "\n",
    "diabetes = datasets.load_diabetes()\n",
    "\n",
    "X = diabetes.data[:, None, 6]\n",
    "y = diabetes.target\n",
    "\n",
    "X_train, X_test, y_train, y_test = train_test_split(X, y, random_state=0)\n",
    "\n",
    "lm = LinearRegression().fit(X_train, y_train)\n",
    "lm_dummy_mean = DummyRegressor(strategy = 'mean').fit(X_train, y_train)\n",
    "\n",
    "y_predict = lm.predict(X_test)\n",
    "y_predict_dummy_mean = lm_dummy_mean.predict(X_test)\n",
    "\n",
    "print('Linear model, coefficients: ', lm.coef_)\n",
    "print(\"Mean squared error (dummy): {:.2f}\".format(mean_squared_error(y_test, \n",
    "                                                                     y_predict_dummy_mean)))\n",
    "print(\"Mean squared error (linear model): {:.2f}\".format(mean_squared_error(y_test, y_predict)))\n",
    "print(\"r2_score (dummy): {:.2f}\".format(r2_score(y_test, y_predict_dummy_mean)))\n",
    "print(\"r2_score (linear model): {:.2f}\".format(r2_score(y_test, y_predict)))\n",
    "\n",
    "# Plot outputs\n",
    "plt.scatter(X_test, y_test,  color='black')\n",
    "plt.plot(X_test, y_predict, color='green', linewidth=2)\n",
    "plt.plot(X_test, y_predict_dummy_mean, color='red', linestyle = 'dashed', \n",
    "         linewidth=2, label = 'dummy')\n",
    "\n",
    "plt.show()"
   ]
  },
  {
   "cell_type": "markdown",
   "metadata": {},
   "source": [
    "### Model selection using evaluation metrics"
   ]
  },
  {
   "cell_type": "markdown",
   "metadata": {},
   "source": [
    "#### Cross-validation example"
   ]
  },
  {
   "cell_type": "code",
   "execution_count": null,
   "metadata": {
    "collapsed": false
   },
   "outputs": [],
   "source": [
    "from sklearn.model_selection import cross_val_score\n",
    "from sklearn.svm import SVC\n",
    "\n",
    "dataset = load_digits()\n",
    "# again, making this a binary problem with 'digit 1' as positive class \n",
    "# and 'not 1' as negative class\n",
    "X, y = dataset.data, dataset.target == 1\n",
    "clf = SVC(kernel='linear', C=1)\n",
    "\n",
    "# accuracy is the default scoring metric\n",
    "print('Cross-validation (accuracy)', cross_val_score(clf, X, y, cv=5))\n",
    "# use AUC as scoring metric\n",
    "print('Cross-validation (AUC)', cross_val_score(clf, X, y, cv=5, scoring = 'roc_auc'))\n",
    "# use recall as scoring metric\n",
    "print('Cross-validation (recall)', cross_val_score(clf, X, y, cv=5, scoring = 'recall'))"
   ]
  },
  {
   "cell_type": "markdown",
   "metadata": {},
   "source": [
    "#### Grid search example"
   ]
  },
  {
   "cell_type": "code",
   "execution_count": 1,
   "metadata": {
    "collapsed": false
   },
   "outputs": [
    {
     "ename": "NameError",
     "evalue": "name 'load_digits' is not defined",
     "output_type": "error",
     "traceback": [
      "\u001b[0;31m---------------------------------------------------------------------------\u001b[0m",
      "\u001b[0;31mNameError\u001b[0m                                 Traceback (most recent call last)",
      "\u001b[0;32m<ipython-input-1-3559258515c2>\u001b[0m in \u001b[0;36m<module>\u001b[0;34m()\u001b[0m\n\u001b[1;32m      3\u001b[0m \u001b[0;32mfrom\u001b[0m \u001b[0msklearn\u001b[0m\u001b[0;34m.\u001b[0m\u001b[0mmetrics\u001b[0m \u001b[0;32mimport\u001b[0m \u001b[0mroc_auc_score\u001b[0m\u001b[0;34m\u001b[0m\u001b[0m\n\u001b[1;32m      4\u001b[0m \u001b[0;34m\u001b[0m\u001b[0m\n\u001b[0;32m----> 5\u001b[0;31m \u001b[0mdataset\u001b[0m \u001b[0;34m=\u001b[0m \u001b[0mload_digits\u001b[0m\u001b[0;34m(\u001b[0m\u001b[0;34m)\u001b[0m\u001b[0;34m\u001b[0m\u001b[0m\n\u001b[0m\u001b[1;32m      6\u001b[0m \u001b[0mX\u001b[0m\u001b[0;34m,\u001b[0m \u001b[0my\u001b[0m \u001b[0;34m=\u001b[0m \u001b[0mdataset\u001b[0m\u001b[0;34m.\u001b[0m\u001b[0mdata\u001b[0m\u001b[0;34m,\u001b[0m \u001b[0mdataset\u001b[0m\u001b[0;34m.\u001b[0m\u001b[0mtarget\u001b[0m \u001b[0;34m==\u001b[0m \u001b[0;36m1\u001b[0m\u001b[0;34m\u001b[0m\u001b[0m\n\u001b[1;32m      7\u001b[0m \u001b[0mX_train\u001b[0m\u001b[0;34m,\u001b[0m \u001b[0mX_test\u001b[0m\u001b[0;34m,\u001b[0m \u001b[0my_train\u001b[0m\u001b[0;34m,\u001b[0m \u001b[0my_test\u001b[0m \u001b[0;34m=\u001b[0m \u001b[0mtrain_test_split\u001b[0m\u001b[0;34m(\u001b[0m\u001b[0mX\u001b[0m\u001b[0;34m,\u001b[0m \u001b[0my\u001b[0m\u001b[0;34m,\u001b[0m \u001b[0mrandom_state\u001b[0m\u001b[0;34m=\u001b[0m\u001b[0;36m0\u001b[0m\u001b[0;34m)\u001b[0m\u001b[0;34m\u001b[0m\u001b[0m\n",
      "\u001b[0;31mNameError\u001b[0m: name 'load_digits' is not defined"
     ]
    }
   ],
   "source": [
    "from sklearn.svm import SVC\n",
    "from sklearn.model_selection import GridSearchCV\n",
    "from sklearn.metrics import roc_auc_score\n",
    "\n",
    "dataset = load_digits()\n",
    "X, y = dataset.data, dataset.target == 1\n",
    "X_train, X_test, y_train, y_test = train_test_split(X, y, random_state=0)\n",
    "\n",
    "clf = SVC(kernel='rbf')\n",
    "grid_values = {'gamma': [0.001, 0.01, 0.05, 0.1, 1, 10, 100]}\n",
    "\n",
    "# default metric to optimize over grid parameters: accuracy\n",
    "grid_clf_acc = GridSearchCV(clf, param_grid = grid_values)\n",
    "grid_clf_acc.fit(X_train, y_train)\n",
    "y_decision_fn_scores_acc = grid_clf_acc.decision_function(X_test) \n",
    "\n",
    "print('Grid best parameter (max. accuracy): ', grid_clf_acc.best_params_)\n",
    "print('Grid best score (accuracy): ', grid_clf_acc.best_score_)\n",
    "\n",
    "# alternative metric to optimize over grid parameters: AUC\n",
    "grid_clf_auc = GridSearchCV(clf, param_grid = grid_values, scoring = 'roc_auc')\n",
    "grid_clf_auc.fit(X_train, y_train)\n",
    "y_decision_fn_scores_auc = grid_clf_auc.decision_function(X_test) \n",
    "\n",
    "print('Test set AUC: ', roc_auc_score(y_test, y_decision_fn_scores_auc))\n",
    "print('Grid best parameter (max. AUC): ', grid_clf_auc.best_params_)\n",
    "print('Grid best score (AUC): ', grid_clf_auc.best_score_)\n"
   ]
  },
  {
   "cell_type": "markdown",
   "metadata": {},
   "source": [
    "#### Evaluation metrics supported for model selection"
   ]
  },
  {
   "cell_type": "code",
   "execution_count": null,
   "metadata": {
    "collapsed": false
   },
   "outputs": [],
   "source": [
    "from sklearn.metrics.scorer import SCORERS\n",
    "\n",
    "print(sorted(list(SCORERS.keys())))"
   ]
  },
  {
   "cell_type": "markdown",
   "metadata": {},
   "source": [
    "### Two-feature classification example using the digits dataset"
   ]
  },
  {
   "cell_type": "markdown",
   "metadata": {},
   "source": [
    "#### Optimizing a classifier using different evaluation metrics"
   ]
  },
  {
   "cell_type": "code",
   "execution_count": null,
   "metadata": {
    "collapsed": false,
    "scrolled": false
   },
   "outputs": [],
   "source": [
    "from sklearn.datasets import load_digits\n",
    "from sklearn.model_selection import train_test_split\n",
    "from adspy_shared_utilities import plot_class_regions_for_classifier_subplot\n",
    "from sklearn.svm import SVC\n",
    "from sklearn.model_selection import GridSearchCV\n",
    "\n",
    "\n",
    "dataset = load_digits()\n",
    "X, y = dataset.data, dataset.target == 1\n",
    "X_train, X_test, y_train, y_test = train_test_split(X, y, random_state=0)\n",
    "\n",
    "# Create a two-feature input vector matching the example plot above\n",
    "# We jitter the points (add a small amount of random noise) in case there are areas\n",
    "# in feature space where many instances have the same features.\n",
    "jitter_delta = 0.25\n",
    "X_twovar_train = X_train[:,[20,59]]+ np.random.rand(X_train.shape[0], 2) - jitter_delta\n",
    "X_twovar_test  = X_test[:,[20,59]] + np.random.rand(X_test.shape[0], 2) - jitter_delta\n",
    "\n",
    "clf = SVC(kernel = 'linear').fit(X_twovar_train, y_train)\n",
    "grid_values = {'class_weight':['balanced', {1:2},{1:3},{1:4},{1:5},{1:10},{1:20},{1:50}]}\n",
    "plt.figure(figsize=(9,6))\n",
    "for i, eval_metric in enumerate(('precision','recall', 'f1','roc_auc')):\n",
    "    grid_clf_custom = GridSearchCV(clf, param_grid=grid_values, scoring=eval_metric)\n",
    "    grid_clf_custom.fit(X_twovar_train, y_train)\n",
    "    print('Grid best parameter (max. {0}): {1}'\n",
    "          .format(eval_metric, grid_clf_custom.best_params_))\n",
    "    print('Grid best score ({0}): {1}'\n",
    "          .format(eval_metric, grid_clf_custom.best_score_))\n",
    "    plt.subplots_adjust(wspace=0.3, hspace=0.3)\n",
    "    plot_class_regions_for_classifier_subplot(grid_clf_custom, X_twovar_test, y_test, None,\n",
    "                                             None, None,  plt.subplot(2, 2, i+1))\n",
    "    \n",
    "    plt.title(eval_metric+'-oriented SVC')\n",
    "plt.tight_layout()\n",
    "plt.show()"
   ]
  },
  {
   "cell_type": "markdown",
   "metadata": {},
   "source": [
    "#### Precision-recall curve for the default SVC classifier (with balanced class weights)"
   ]
  },
  {
   "cell_type": "code",
   "execution_count": null,
   "metadata": {
    "collapsed": false,
    "scrolled": false
   },
   "outputs": [],
   "source": [
    "from sklearn.model_selection import train_test_split\n",
    "from sklearn.metrics import precision_recall_curve\n",
    "from adspy_shared_utilities import plot_class_regions_for_classifier\n",
    "from sklearn.svm import SVC\n",
    "\n",
    "dataset = load_digits()\n",
    "X, y = dataset.data, dataset.target == 1\n",
    "X_train, X_test, y_train, y_test = train_test_split(X, y, random_state=0)\n",
    "\n",
    "# create a two-feature input vector matching the example plot above\n",
    "jitter_delta = 0.25\n",
    "X_twovar_train = X_train[:,[20,59]]+ np.random.rand(X_train.shape[0], 2) - jitter_delta\n",
    "X_twovar_test  = X_test[:,[20,59]] + np.random.rand(X_test.shape[0], 2) - jitter_delta\n",
    "\n",
    "clf = SVC(kernel='linear', class_weight='balanced').fit(X_twovar_train, y_train)\n",
    "\n",
    "y_scores = clf.decision_function(X_twovar_test)\n",
    "\n",
    "precision, recall, thresholds = precision_recall_curve(y_test, y_scores)\n",
    "closest_zero = np.argmin(np.abs(thresholds))\n",
    "closest_zero_p = precision[closest_zero]\n",
    "closest_zero_r = recall[closest_zero]\n",
    "\n",
    "plot_class_regions_for_classifier(clf, X_twovar_test, y_test)\n",
    "plt.title(\"SVC, class_weight = 'balanced', optimized for accuracy\")\n",
    "plt.show()\n",
    "\n",
    "plt.figure()\n",
    "plt.xlim([0.0, 1.01])\n",
    "plt.ylim([0.0, 1.01])\n",
    "plt.title (\"Precision-recall curve: SVC, class_weight = 'balanced'\")\n",
    "plt.plot(precision, recall, label = 'Precision-Recall Curve')\n",
    "plt.plot(closest_zero_p, closest_zero_r, 'o', markersize=12, fillstyle='none', c='r', mew=3)\n",
    "plt.xlabel('Precision', fontsize=16)\n",
    "plt.ylabel('Recall', fontsize=16)\n",
    "plt.axes().set_aspect('equal')\n",
    "plt.show()\n",
    "print('At zero threshold, precision: {:.2f}, recall: {:.2f}'\n",
    "      .format(closest_zero_p, closest_zero_r))"
   ]
  },
  {
   "cell_type": "code",
   "execution_count": null,
   "metadata": {
    "collapsed": true
   },
   "outputs": [],
   "source": []
  }
 ],
 "metadata": {
  "anaconda-cloud": {},
  "kernelspec": {
   "display_name": "Python 3",
   "language": "python",
   "name": "python3"
  },
  "language_info": {
   "codemirror_mode": {
    "name": "ipython",
    "version": 3
   },
   "file_extension": ".py",
   "mimetype": "text/x-python",
   "name": "python",
   "nbconvert_exporter": "python",
   "pygments_lexer": "ipython3",
   "version": "3.6.2"
  }
 },
 "nbformat": 4,
 "nbformat_minor": 1
}
